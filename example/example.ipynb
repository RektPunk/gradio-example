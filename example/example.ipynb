{
 "cells": [
  {
   "attachments": {},
   "cell_type": "markdown",
   "metadata": {},
   "source": [
    "## Interface"
   ]
  },
  {
   "cell_type": "code",
   "execution_count": null,
   "metadata": {},
   "outputs": [],
   "source": [
    "import gradio as gr\n",
    "\n",
    "def greet(name: str) -> str:\n",
    "    return f\"Hello {name}!\"\n",
    "\n",
    "demo = gr.Interface(fn=greet, inputs=\"text\", outputs=\"text\")\n",
    "\n",
    "demo.launch()"
   ]
  },
  {
   "attachments": {},
   "cell_type": "markdown",
   "metadata": {},
   "source": [
    "### Multiple input"
   ]
  },
  {
   "cell_type": "code",
   "execution_count": null,
   "metadata": {},
   "outputs": [],
   "source": [
    "import gradio as gr\n",
    "\n",
    "def greet(name, is_morning, temperature):\n",
    "    salutation = \"Good morning\" if is_morning else \"Good evening\"\n",
    "    greeting = f\"{salutation} {name}. It is {temperature} degrees today\"\n",
    "    celsius = (temperature - 32) * 5 / 9\n",
    "    return greeting, round(celsius, 2)\n",
    "\n",
    "demo = gr.Interface(\n",
    "    fn=greet,\n",
    "    inputs=[\"text\", \"checkbox\", gr.Slider(0, 100)],\n",
    "    outputs=[\"text\", \"number\"],\n",
    ")\n",
    "demo.launch()"
   ]
  },
  {
   "attachments": {},
   "cell_type": "markdown",
   "metadata": {},
   "source": [
    "## Image"
   ]
  },
  {
   "cell_type": "code",
   "execution_count": null,
   "metadata": {},
   "outputs": [],
   "source": [
    "import numpy as np\n",
    "import gradio as gr\n",
    "\n",
    "def sepia(input_img) -> np.ndarray:\n",
    "    sepia_filter = np.array([\n",
    "        [0.393, 0.769, 0.189], \n",
    "        [0.349, 0.686, 0.168], \n",
    "        [0.272, 0.534, 0.131]\n",
    "    ])\n",
    "    sepia_img = input_img.dot(sepia_filter.T)\n",
    "    sepia_img /= sepia_img.max()\n",
    "    return sepia_img\n",
    "\n",
    "demo = gr.Interface(\n",
    "    fn=sepia,\n",
    "    inputs=\"image\",\n",
    "    outputs=\"image\", \n",
    ")\n",
    "demo.launch()"
   ]
  },
  {
   "cell_type": "code",
   "execution_count": null,
   "metadata": {},
   "outputs": [],
   "source": [
    "import numpy as np\n",
    "import cv2\n",
    "import gradio as gr\n",
    "import easyocr\n",
    "\n",
    "reader = easyocr.Reader(['ko'])\n",
    "\n",
    "def ocr(image: np.ndarray) -> np.ndarray:\n",
    "    ocr_results = reader.readtext(image)\n",
    "    image_with_ocr = np.copy(image)\n",
    "    \n",
    "    ocr_result_labels = {}\n",
    "    index = 0\n",
    "    for ocr_result in ocr_results:\n",
    "        bbox = ocr_result[0]\n",
    "        text = ocr_result[1]\n",
    "        confi = ocr_result[2]\n",
    "\n",
    "        if confi >= 0.5:\n",
    "            cv2.rectangle(\n",
    "                image_with_ocr, \n",
    "                (int(bbox[0][0]), int(bbox[0][1])), \n",
    "                (int(bbox[2][0]), int(bbox[2][1])), \n",
    "                (0, 255, 0), \n",
    "                2\n",
    "            )\n",
    "            cv2.putText(\n",
    "                image_with_ocr, \n",
    "                str(index), \n",
    "                (int(bbox[0][0]), int(bbox[0][1] - 10)),\n",
    "                cv2.FONT_HERSHEY_SIMPLEX, \n",
    "                0.9, \n",
    "                (0, 255, 0), \n",
    "                2\n",
    "            )\n",
    "            ocr_result_labels.update(\n",
    "                {\n",
    "                    f\"{index}_{text}\" : confi,\n",
    "                }   \n",
    "            )\n",
    "            index = index + 1\n",
    "    return image_with_ocr, ocr_result_labels\n",
    "\n",
    "ocr_demo = gr.Interface(\n",
    "    fn = ocr,\n",
    "    inputs = \"image\",\n",
    "    outputs = [\"image\", \"label\"],\n",
    ")\n",
    "\n",
    "\n",
    "\n",
    "ocr_demo.launch()"
   ]
  },
  {
   "cell_type": "code",
   "execution_count": null,
   "metadata": {},
   "outputs": [],
   "source": [
    "{\n",
    "    \"yeah\": 0.8,\n",
    "    \n",
    "}"
   ]
  }
 ],
 "metadata": {
  "kernelspec": {
   "display_name": "gradio-example",
   "language": "python",
   "name": "python3"
  },
  "language_info": {
   "codemirror_mode": {
    "name": "ipython",
    "version": 3
   },
   "file_extension": ".py",
   "mimetype": "text/x-python",
   "name": "python",
   "nbconvert_exporter": "python",
   "pygments_lexer": "ipython3",
   "version": "3.9.16"
  },
  "orig_nbformat": 4,
  "vscode": {
   "interpreter": {
    "hash": "86e87a04d49e9cb591e4f008cdfd4948d3066903521cfb042295c7630ec0275f"
   }
  }
 },
 "nbformat": 4,
 "nbformat_minor": 2
}
